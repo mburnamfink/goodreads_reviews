{
 "cells": [
  {
   "cell_type": "markdown",
   "metadata": {},
   "source": [
    "## Intro to Complexity"
   ]
  },
  {
   "cell_type": "markdown",
   "metadata": {},
   "source": [
    "Given a list, **write a function to pair every number with everything else** (preserving order, so both (1,2) and (2,1) will be included). Let's say you have written the code below. It could be written without using indexes, etc. But let's take this function as good and accepted."
   ]
  },
  {
   "cell_type": "code",
   "execution_count": null,
   "metadata": {},
   "outputs": [],
   "source": [
    "def make_pairs(input_list):\n",
    "    pairs = []\n",
    "    for el1 in input_list:\n",
    "        for el2 in input_list:\n",
    "            if el1 != el2:\n",
    "                pairs.append((el1, el2))\n",
    "    return pairs\n",
    "\n",
    "make_pairs([1,2,3,4])"
   ]
  },
  {
   "cell_type": "markdown",
   "metadata": {},
   "source": [
    "### Modification\n",
    "\n",
    "Now I instead want **a function that prints only the pairs where the indexes are exactly 2 apart**. There are two ways I can do that.\n",
    "\n",
    "**1) Quickly modify the existing code:**"
   ]
  },
  {
   "cell_type": "code",
   "execution_count": null,
   "metadata": {},
   "outputs": [],
   "source": [
    "list1 = ['a', 'b', 'c']\n",
    "for index, element in enumerate(list1):\n",
    "    print(index)\n",
    "    print(element)"
   ]
  },
  {
   "cell_type": "code",
   "execution_count": null,
   "metadata": {},
   "outputs": [],
   "source": [
    "def make_pairs_two_apart(input_list):\n",
    "    pairs = []\n",
    "    for index1, el1 in enumerate(input_list):\n",
    "        for index2, el2 in enumerate(input_list):\n",
    "            if abs(index1 - index2) == 2:\n",
    "                pairs.append((el1, el2))\n",
    "    return pairs\n",
    "\n",
    "make_pairs_two_apart([1,2,3,4])"
   ]
  },
  {
   "cell_type": "markdown",
   "metadata": {},
   "source": [
    "**2) Rewrite the function to be efficient:** "
   ]
  },
  {
   "cell_type": "code",
   "execution_count": null,
   "metadata": {},
   "outputs": [],
   "source": [
    "def make_pairs_two_apart_2(input_list):\n",
    "    forward = list(zip(input_list, input_list[2:]))\n",
    "    backward = [(y,x) for (x,y) in forward]\n",
    "    return forward + backward\n",
    "\n",
    "make_pairs_two_apart_2([1,2,3,4])"
   ]
  },
  {
   "cell_type": "markdown",
   "metadata": {},
   "source": [
    "### Choices\n",
    "\n",
    "Option 2 is more efficient, but involves more coding and potentially more time spent testing and fixing. **Which option should you go with?**\n",
    "\n",
    "People often say #2 but end up doing #1. The answer is, **\"it depends\"**. It depends on the size of the input list. If it is going to be 100 numbers, both options would run in less than a second. So why not just go with #1. But if the list is going to 10 million, that's a different story.\n",
    "\n",
    "But we don't know the size of the input. If we are going to ship the code to someone. They need to know what to expect. As in, what input size can it handle and how long will that take?"
   ]
  },
  {
   "cell_type": "code",
   "execution_count": null,
   "metadata": {
    "collapsed": true
   },
   "outputs": [],
   "source": [
    "import numpy\n",
    "import time\n",
    "\n",
    "def time_to_execute(start, end):\n",
    "    print(\"Code took\", \n",
    "          np.round(end-start, 3),\n",
    "          \"seconds to execute\")"
   ]
  },
  {
   "cell_type": "code",
   "execution_count": null,
   "metadata": {
    "collapsed": true
   },
   "outputs": [],
   "source": [
    "def time_pairs_function(function, input_range):\n",
    "    start = time.time()\n",
    "    t = function(range(input_range))\n",
    "    end = time.time()\n",
    "    time_to_execute(start, end)"
   ]
  },
  {
   "cell_type": "code",
   "execution_count": null,
   "metadata": {},
   "outputs": [],
   "source": [
    "time_pairs_function(make_pairs_two_apart, 100)"
   ]
  },
  {
   "cell_type": "code",
   "execution_count": null,
   "metadata": {},
   "outputs": [],
   "source": [
    "time_pairs_function(make_pairs_two_apart_2, 100)"
   ]
  },
  {
   "cell_type": "code",
   "execution_count": null,
   "metadata": {},
   "outputs": [],
   "source": [
    "time_pairs_function(make_pairs_two_apart, 10000)"
   ]
  },
  {
   "cell_type": "code",
   "execution_count": null,
   "metadata": {},
   "outputs": [],
   "source": [
    "time_pairs_function(make_pairs_two_apart_2, 10000)"
   ]
  },
  {
   "cell_type": "markdown",
   "metadata": {},
   "source": [
    "### Complexity"
   ]
  },
  {
   "cell_type": "markdown",
   "metadata": {},
   "source": [
    "We want to define a formal term called complexity or order. **Given an input size of $N$, how long will the function take to run.** And that clearly is a function of $N$.\n",
    "\n",
    "For option #1: Say, doing the if condition and appending to the list takes some constant time $C$. So computation time would be $CN^2$.\n",
    "\n",
    "For option #2: Say, the append to list takes a constant time of $d$. So the entire computation time would be \n",
    "\n",
    "$$dN + dN = 2dN$$.\n",
    "\n",
    "Or if we want to get even precise, since we are looping only till $N-2$, it would be $2d(N-2)$.\n",
    "\n",
    "Now, imagine viewing the graphs of these two functions side-by-side, both with unlabeled axes, and both very \"zoomed out\". At a point, it gets very difficult to tell the difference between them. (Try it!)\n",
    "\n",
    "In fact, zooming out far enough, it's equally hard to distinguish $N-2000$, $N + 17$, and lots of other functions. The most convenient way of talking about all of these graphs that \"look the same\" is to pick one and use it as a representive. And the simplest choice is... just $N$.\n",
    "\n",
    "Verbally, we'll say any one of these \"grows with $N$\", or (equivalently) \"is $O(N)$\", using [*Big-O notation*](https://en.wikipedia.org/wiki/Big_O_notation). It's also very common to write (somewhat confusingly)\n",
    "\n",
    "$$N+ 17 = O(N)\\ .$$\n",
    "\n",
    "It's important to understand that this is not equality in the usual sense; $O(N)$ is not a single function, but really an entire class of functions. It would be more consistent to write (as some do)\n",
    "\n",
    "$$N + 17 \\in O(N)\\ .$$\n",
    "\n",
    "In the wild, you're likely to come across both notations. In any case, option #1 is an $O(N^2)$ algorithm, while option #2 is $O(N)$.\n",
    "\n",
    "One can think of defining a constant (`cc=0`) at the beginning of the code. And when doing every operation increment it by one (`cc+=1`). At the end, what would the value of cc be as a function of N? That is the complexity of that code.\n",
    "\n",
    "Often, it's possible to **count the number of nested 'for' loops** to get a sense of the complexity. But at other times, it is more complex."
   ]
  }
 ],
 "metadata": {
  "kernelspec": {
   "display_name": "Python 3",
   "language": "python",
   "name": "python3"
  },
  "language_info": {
   "codemirror_mode": {
    "name": "ipython",
    "version": 3
   },
   "file_extension": ".py",
   "mimetype": "text/x-python",
   "name": "python",
   "nbconvert_exporter": "python",
   "pygments_lexer": "ipython3",
   "version": "3.6.3"
  },
  "toc": {
   "colors": {
    "hover_highlight": "#DAA520",
    "running_highlight": "#FF0000",
    "selected_highlight": "#FFD700"
   },
   "moveMenuLeft": true,
   "nav_menu": {
    "height": "87px",
    "width": "252px"
   },
   "navigate_menu": true,
   "number_sections": true,
   "sideBar": true,
   "threshold": 4,
   "toc_cell": false,
   "toc_section_display": "block",
   "toc_window_display": false,
   "widenNotebook": false
  }
 },
 "nbformat": 4,
 "nbformat_minor": 2
}
