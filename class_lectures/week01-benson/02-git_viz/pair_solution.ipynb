{
 "cells": [
  {
   "cell_type": "markdown",
   "metadata": {},
   "source": [
    "### Problem #1:\n",
    "\n",
    "Given a string, write a function to reverse it. Do this using a loop, if possible.\n",
    "\n",
    "    reverseString('abcdef') will return 'fedcba'\n",
    "    reverseString('moon') will return 'noom'"
   ]
  },
  {
   "cell_type": "code",
   "execution_count": 2,
   "metadata": {},
   "outputs": [
    {
     "data": {
      "text/plain": [
       "'gnihtemos yas'"
      ]
     },
     "execution_count": 2,
     "metadata": {},
     "output_type": "execute_result"
    }
   ],
   "source": [
    "def reverseString(s):\n",
    "    return s[::-1]\n",
    "\n",
    "reverseString('say something')"
   ]
  },
  {
   "cell_type": "markdown",
   "metadata": {},
   "source": [
    "This is a nifty way of doing the reverse. The ::-1 is nothing but a range. If you said 'abcdef'[2:5], you would get 'bcd'. So :: means the entire string. And -1 gives it in reverse order.\n",
    "\n",
    "If you had to use a loop, the we can do it this way. A good idea is to use 'for' (and not 'while') when you know the range you are iterating over. Also, it's good to loop over content than index when possible (as we will do here):"
   ]
  },
  {
   "cell_type": "code",
   "execution_count": 3,
   "metadata": {},
   "outputs": [
    {
     "data": {
      "text/plain": [
       "'gnihtemos yas'"
      ]
     },
     "execution_count": 3,
     "metadata": {},
     "output_type": "execute_result"
    }
   ],
   "source": [
    "def reverseString(s):\n",
    "    r = ''\n",
    "    for c in s:\n",
    "        r = c + r\n",
    "    return r\n",
    "\n",
    "reverseString('say something')"
   ]
  },
  {
   "cell_type": "markdown",
   "metadata": {},
   "source": [
    "---"
   ]
  },
  {
   "cell_type": "markdown",
   "metadata": {},
   "source": [
    "### Problem #2\n",
    "\n",
    "Sal's classroom has a bag of alphabet magnets. She wants to know if she can spell her friend's name using the letters in the bag. Write a function that will take a list of letters and a name and print out yes if the name can be spelled and no otherwise.\n",
    "\n",
    "    CanYouSpell(['y','n','p','g','n','l'],\"lynn\") would print YES\n",
    "    CanYouSpell(['y','n','p','g','l'],\"lynn\") would print NO"
   ]
  },
  {
   "cell_type": "markdown",
   "metadata": {},
   "source": [
    "We can loop through the letters in the word and remove it from the list. If we get to the end of the word, then we can spell. And we if can't find a letter in the list, then it's not possible.\n",
    "\n",
    "We loop though every letter in our W = len(word); for each letter, we search through the list. Each check will take N = len(list) steps. So the complexity of the function is O(W*N)."
   ]
  },
  {
   "cell_type": "code",
   "execution_count": 4,
   "metadata": {
    "collapsed": true
   },
   "outputs": [],
   "source": [
    "def CanYouSpell(mylist,word):\n",
    "    for char in word:\n",
    "        if char in mylist:\n",
    "            mylist.remove(char)\n",
    "        else:\n",
    "            return False\n",
    "    return True"
   ]
  },
  {
   "cell_type": "markdown",
   "metadata": {},
   "source": [
    "A more efficient solution is to build a dictionary. A count for each alphabet. Then we loop through the word and for each letter, we subtract its count in the dictionary. If any of the counts go below zero, then we can't spell.\n",
    "\n",
    "Storing and retreving from a dictionary is constant time. So building a dictionary from the list takes N steps and looping through the word takes W steps for a total of N+W. So the complexity of the code is O(N). We could do an initial check that the list is longer than the word; otherwise, spelling is impossible.\n",
    "\n",
    "While we gain in time, the program uses more memory (and if the list gets to be large fraction of the available RAM, then the dictionary operations stop being constant time)."
   ]
  },
  {
   "cell_type": "code",
   "execution_count": 3,
   "metadata": {
    "collapsed": true
   },
   "outputs": [],
   "source": [
    "# using dictionaries\n",
    "from collections import defaultdict\n",
    "def CanYouSpell(mylist,word):\n",
    "    mydict = defaultdict(int) \n",
    "    for char in mylist:\n",
    "        mydict[char]+=1\n",
    "    for char in word:\n",
    "        mydict[char]-=1\n",
    "        if mydict[char]<0:\n",
    "            return False\n",
    "    return True"
   ]
  },
  {
   "cell_type": "markdown",
   "metadata": {},
   "source": [
    "Dictionaries are great in that, they can have any keys. ('this','that',75) can be a key. But in this case, our keys are well defined alphabets from a to z. And they have clear ascii mapping to integers ranging from 97 to 122. So we can just use an array to function like a dictionary."
   ]
  },
  {
   "cell_type": "code",
   "execution_count": 5,
   "metadata": {
    "collapsed": true
   },
   "outputs": [],
   "source": [
    "# simulating dictionaries using array\n",
    "# ord(char) will give the ascii value. 'a'=97, 'b'=98, etc.\n",
    "# This assumes only lower case letter.. but can easily be modified\n",
    "def CanYouSpell(mylist,word):\n",
    "    ar = [0]*26\n",
    "    for char in mylist:\n",
    "        ar[ord(char)-97]+=1\n",
    "    for char in word:\n",
    "        ar[ord(char)-97]-=1\n",
    "        if ar[ord(char)-97]<0:\n",
    "            return False\n",
    "    return True\n"
   ]
  },
  {
   "cell_type": "code",
   "execution_count": 6,
   "metadata": {},
   "outputs": [
    {
     "data": {
      "text/plain": [
       "True"
      ]
     },
     "execution_count": 6,
     "metadata": {},
     "output_type": "execute_result"
    }
   ],
   "source": [
    "CanYouSpell(['y','n','a','Z','l','n'],\"lynn\")"
   ]
  },
  {
   "cell_type": "code",
   "execution_count": null,
   "metadata": {
    "collapsed": true
   },
   "outputs": [],
   "source": []
  }
 ],
 "metadata": {
  "anaconda-cloud": {},
  "kernelspec": {
   "display_name": "Python [conda root]",
   "language": "python",
   "name": "conda-root-py"
  },
  "language_info": {
   "codemirror_mode": {
    "name": "ipython",
    "version": 3
   },
   "file_extension": ".py",
   "mimetype": "text/x-python",
   "name": "python",
   "nbconvert_exporter": "python",
   "pygments_lexer": "ipython3",
   "version": "3.5.4"
  },
  "toc": {
   "colors": {
    "hover_highlight": "#DAA520",
    "navigate_num": "#000000",
    "navigate_text": "#333333",
    "running_highlight": "#FF0000",
    "selected_highlight": "#FFD700",
    "sidebar_border": "#EEEEEE",
    "wrapper_background": "#FFFFFF"
   },
   "moveMenuLeft": false,
   "nav_menu": {
    "height": "48px",
    "width": "252px"
   },
   "navigate_menu": true,
   "number_sections": false,
   "sideBar": false,
   "threshold": "3",
   "toc_cell": false,
   "toc_section_display": "block",
   "toc_window_display": false,
   "widenNotebook": false
  }
 },
 "nbformat": 4,
 "nbformat_minor": 1
}
