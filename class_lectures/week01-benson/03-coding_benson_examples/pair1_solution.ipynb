{
 "cells": [
  {
   "cell_type": "markdown",
   "metadata": {},
   "source": [
    "# Solution to Pair Problem #1\n",
    "\n",
    "This program stores the range of possible numbers. It guesses the middle of the range. If the guess was higher, we can throw away all the numbers above our guess, reducing our range by half.\n",
    "- We start with 0-100\n",
    "- We guess the half, which is 50\n",
    "- 50 is higher than the input number(13), so our range now becomes 0-50\n",
    "- And we guess 25\n",
    "- We keep going till we reach the input number.\n",
    "\n",
    "The complexity of the code in O(lnN) -- Order log N.\n",
    "\n",
    "You can think of it this way. Since each time we divide the list by half, given X tries, we can scan 2^X numbers (16 with 4 tries, 32 with 5 tries, etc).\n",
    "\n",
    "2^X = N implies X = lnN\n",
    "\n",
    "Given X tries we can guess 2^X numbers. And given N we need ln(N) tries, as `natural log` approximates base 2."
   ]
  },
  {
   "cell_type": "code",
   "execution_count": 6,
   "metadata": {
    "collapsed": true
   },
   "outputs": [],
   "source": [
    "def guess(num):\n",
    "    low = 0\n",
    "    high = 100\n",
    "    tries = 0\n",
    "    while True: #this keeps going until something is returned\n",
    "        myGuess = (low+high)//2  #this is the mean\n",
    "        tries += 1\n",
    "        if myGuess==num:\n",
    "            return tries  #breaks while\n",
    "        elif myGuess>num:\n",
    "            high = myGuess\n",
    "        else:\n",
    "            low = myGuess            "
   ]
  },
  {
   "cell_type": "markdown",
   "metadata": {},
   "source": [
    "If you run the for-loop below, you'll see that we predict all number between 0 to 100 using 8 tries or less. 2^8=128. So it makes sense that we can do this in 8 tries."
   ]
  },
  {
   "cell_type": "code",
   "execution_count": null,
   "metadata": {},
   "outputs": [
    {
     "name": "stdout",
     "output_type": "stream",
     "text": [
      "0 7\n",
      "1 6\n",
      "2 7\n",
      "3 5\n",
      "4 6\n",
      "5 7\n",
      "6 4\n",
      "7 6\n",
      "8 7\n",
      "9 5\n",
      "10 6\n",
      "11 7\n",
      "12 3\n",
      "13 6\n",
      "14 7\n",
      "15 5\n",
      "16 6\n",
      "17 7\n",
      "18 4\n",
      "19 6\n",
      "20 7\n",
      "21 5\n",
      "22 7\n",
      "23 6\n",
      "24 7\n",
      "25 2\n",
      "26 6\n",
      "27 7\n",
      "28 5\n",
      "29 6\n",
      "30 7\n",
      "31 4\n",
      "32 6\n",
      "33 7\n",
      "34 5\n",
      "35 6\n",
      "36 7\n",
      "37 3\n",
      "38 6\n",
      "39 7\n",
      "40 5\n",
      "41 6\n",
      "42 7\n",
      "43 4\n",
      "44 6\n",
      "45 7\n",
      "46 5\n",
      "47 7\n",
      "48 6\n",
      "49 7\n",
      "50 1\n",
      "51 6\n",
      "52 7\n",
      "53 5\n",
      "54 6\n",
      "55 7\n",
      "56 4\n",
      "57 6\n",
      "58 7\n",
      "59 5\n",
      "60 6\n",
      "61 7\n",
      "62 3\n"
     ]
    }
   ],
   "source": [
    "for i in range(101):\n",
    "    print(i, guess(i))"
   ]
  },
  {
   "cell_type": "code",
   "execution_count": null,
   "metadata": {
    "collapsed": true
   },
   "outputs": [],
   "source": []
  }
 ],
 "metadata": {
  "anaconda-cloud": {},
  "kernelspec": {
   "display_name": "Python [conda root]",
   "language": "python",
   "name": "conda-root-py"
  },
  "language_info": {
   "codemirror_mode": {
    "name": "ipython",
    "version": 3
   },
   "file_extension": ".py",
   "mimetype": "text/x-python",
   "name": "python",
   "nbconvert_exporter": "python",
   "pygments_lexer": "ipython3",
   "version": "3.5.4"
  },
  "toc": {
   "colors": {
    "hover_highlight": "#DAA520",
    "navigate_num": "#000000",
    "navigate_text": "#333333",
    "running_highlight": "#FF0000",
    "selected_highlight": "#FFD700",
    "sidebar_border": "#EEEEEE",
    "wrapper_background": "#FFFFFF"
   },
   "moveMenuLeft": false,
   "nav_menu": {
    "height": "30px",
    "width": "252px"
   },
   "navigate_menu": true,
   "number_sections": false,
   "sideBar": false,
   "threshold": "3",
   "toc_cell": false,
   "toc_section_display": "block",
   "toc_window_display": false,
   "widenNotebook": false
  }
 },
 "nbformat": 4,
 "nbformat_minor": 2
}
