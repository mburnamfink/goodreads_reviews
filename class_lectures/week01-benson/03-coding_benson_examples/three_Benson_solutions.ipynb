{
 "cells": [
  {
   "cell_type": "code",
   "execution_count": 1,
   "metadata": {
    "collapsed": true
   },
   "outputs": [],
   "source": [
    "from __future__ import division, print_function"
   ]
  },
  {
   "cell_type": "markdown",
   "metadata": {},
   "source": [
    "# MTA Data Challenges"
   ]
  },
  {
   "cell_type": "code",
   "execution_count": 2,
   "metadata": {
    "collapsed": true
   },
   "outputs": [],
   "source": [
    "import csv\n",
    "from datetime import datetime\n",
    "from collections import Counter"
   ]
  },
  {
   "cell_type": "markdown",
   "metadata": {},
   "source": [
    "### Challenge 1"
   ]
  },
  {
   "cell_type": "code",
   "execution_count": 3,
   "metadata": {
    "collapsed": false
   },
   "outputs": [
    {
     "name": "stdout",
     "output_type": "stream",
     "text": [
      "  % Total    % Received % Xferd  Average Speed   Time    Time     Time  Current\n",
      "                                 Dload  Upload   Total   Spent    Left  Speed\n",
      "100 24.0M    0 24.0M    0     0  1318k      0 --:--:--  0:00:18 --:--:-- 1260k\n"
     ]
    }
   ],
   "source": [
    "!curl -O http://web.mta.info/developers/data/nyct/turnstile/turnstile_150627.txt"
   ]
  },
  {
   "cell_type": "code",
   "execution_count": 4,
   "metadata": {
    "collapsed": false
   },
   "outputs": [],
   "source": [
    "with open('turnstile_150627.txt') as f:\n",
    "    reader = csv.reader(f)\n",
    "    rows = [[cell.strip() for cell in row] for row in reader]"
   ]
  },
  {
   "cell_type": "code",
   "execution_count": 5,
   "metadata": {
    "collapsed": true
   },
   "outputs": [],
   "source": [
    "assert rows.pop(0) == ['C/A', 'UNIT', 'SCP', 'STATION', 'LINENAME',\n",
    "                       'DIVISION', 'DATE', 'TIME', 'DESC', 'ENTRIES',\n",
    "                       'EXITS']"
   ]
  },
  {
   "cell_type": "code",
   "execution_count": 6,
   "metadata": {
    "collapsed": true
   },
   "outputs": [],
   "source": [
    "raw_readings = {}\n",
    "for row in rows:\n",
    "    raw_readings.setdefault(tuple(row[:4]), []).append(tuple(row[4:]))"
   ]
  },
  {
   "cell_type": "code",
   "execution_count": 9,
   "metadata": {
    "collapsed": false
   },
   "outputs": [
    {
     "data": {
      "text/plain": [
       "(('R312', 'R405', '00-00-01', 'JACKSON AVE'),\n",
       " [('25',\n",
       "   'IRT',\n",
       "   '06/20/2015',\n",
       "   '01:00:00',\n",
       "   'REGULAR',\n",
       "   '0004889720',\n",
       "   '0000482693'),\n",
       "  ('25',\n",
       "   'IRT',\n",
       "   '06/20/2015',\n",
       "   '05:00:00',\n",
       "   'REGULAR',\n",
       "   '0004889750',\n",
       "   '0000482697'),\n",
       "  ('25',\n",
       "   'IRT',\n",
       "   '06/20/2015',\n",
       "   '09:00:00',\n",
       "   'REGULAR',\n",
       "   '0004889954',\n",
       "   '0000482702'),\n",
       "  ('25',\n",
       "   'IRT',\n",
       "   '06/20/2015',\n",
       "   '13:00:00',\n",
       "   'REGULAR',\n",
       "   '0004890171',\n",
       "   '0000482710'),\n",
       "  ('25',\n",
       "   'IRT',\n",
       "   '06/20/2015',\n",
       "   '17:00:00',\n",
       "   'REGULAR',\n",
       "   '0004890384',\n",
       "   '0000482732'),\n",
       "  ('25',\n",
       "   'IRT',\n",
       "   '06/20/2015',\n",
       "   '21:00:00',\n",
       "   'REGULAR',\n",
       "   '0004890531',\n",
       "   '0000482744'),\n",
       "  ('25',\n",
       "   'IRT',\n",
       "   '06/21/2015',\n",
       "   '01:00:00',\n",
       "   'REGULAR',\n",
       "   '0004890632',\n",
       "   '0000482756'),\n",
       "  ('25',\n",
       "   'IRT',\n",
       "   '06/21/2015',\n",
       "   '05:00:00',\n",
       "   'REGULAR',\n",
       "   '0004890662',\n",
       "   '0000482759'),\n",
       "  ('25',\n",
       "   'IRT',\n",
       "   '06/21/2015',\n",
       "   '09:00:00',\n",
       "   'REGULAR',\n",
       "   '0004890799',\n",
       "   '0000482759'),\n",
       "  ('25',\n",
       "   'IRT',\n",
       "   '06/21/2015',\n",
       "   '13:00:00',\n",
       "   'REGULAR',\n",
       "   '0004890966',\n",
       "   '0000482769'),\n",
       "  ('25',\n",
       "   'IRT',\n",
       "   '06/21/2015',\n",
       "   '17:00:00',\n",
       "   'REGULAR',\n",
       "   '0004891181',\n",
       "   '0000482802'),\n",
       "  ('25',\n",
       "   'IRT',\n",
       "   '06/21/2015',\n",
       "   '21:00:00',\n",
       "   'REGULAR',\n",
       "   '0004891316',\n",
       "   '0000482819'),\n",
       "  ('25',\n",
       "   'IRT',\n",
       "   '06/22/2015',\n",
       "   '01:00:00',\n",
       "   'REGULAR',\n",
       "   '0004891381',\n",
       "   '0000482827'),\n",
       "  ('25',\n",
       "   'IRT',\n",
       "   '06/22/2015',\n",
       "   '05:00:00',\n",
       "   'REGULAR',\n",
       "   '0004891412',\n",
       "   '0000482828'),\n",
       "  ('25',\n",
       "   'IRT',\n",
       "   '06/22/2015',\n",
       "   '09:00:00',\n",
       "   'REGULAR',\n",
       "   '0004891898',\n",
       "   '0000482855'),\n",
       "  ('25',\n",
       "   'IRT',\n",
       "   '06/22/2015',\n",
       "   '13:00:00',\n",
       "   'REGULAR',\n",
       "   '0004892231',\n",
       "   '0000482874'),\n",
       "  ('25',\n",
       "   'IRT',\n",
       "   '06/22/2015',\n",
       "   '17:00:00',\n",
       "   'REGULAR',\n",
       "   '0004892562',\n",
       "   '0000482893'),\n",
       "  ('25',\n",
       "   'IRT',\n",
       "   '06/22/2015',\n",
       "   '21:00:00',\n",
       "   'REGULAR',\n",
       "   '0004892783',\n",
       "   '0000482903'),\n",
       "  ('25',\n",
       "   'IRT',\n",
       "   '06/23/2015',\n",
       "   '01:00:00',\n",
       "   'REGULAR',\n",
       "   '0004892859',\n",
       "   '0000482907'),\n",
       "  ('25',\n",
       "   'IRT',\n",
       "   '06/23/2015',\n",
       "   '05:00:00',\n",
       "   'REGULAR',\n",
       "   '0004892900',\n",
       "   '0000482912'),\n",
       "  ('25',\n",
       "   'IRT',\n",
       "   '06/23/2015',\n",
       "   '09:00:00',\n",
       "   'REGULAR',\n",
       "   '0004893424',\n",
       "   '0000482924'),\n",
       "  ('25',\n",
       "   'IRT',\n",
       "   '06/23/2015',\n",
       "   '13:00:00',\n",
       "   'REGULAR',\n",
       "   '0004893728',\n",
       "   '0000482950'),\n",
       "  ('25',\n",
       "   'IRT',\n",
       "   '06/23/2015',\n",
       "   '17:00:00',\n",
       "   'REGULAR',\n",
       "   '0004894114',\n",
       "   '0000482973'),\n",
       "  ('25',\n",
       "   'IRT',\n",
       "   '06/23/2015',\n",
       "   '21:00:00',\n",
       "   'REGULAR',\n",
       "   '0004894299',\n",
       "   '0000482993'),\n",
       "  ('25',\n",
       "   'IRT',\n",
       "   '06/24/2015',\n",
       "   '01:00:00',\n",
       "   'REGULAR',\n",
       "   '0004894364',\n",
       "   '0000482998'),\n",
       "  ('25',\n",
       "   'IRT',\n",
       "   '06/24/2015',\n",
       "   '05:00:00',\n",
       "   'REGULAR',\n",
       "   '0004894395',\n",
       "   '0000483000'),\n",
       "  ('25',\n",
       "   'IRT',\n",
       "   '06/24/2015',\n",
       "   '09:00:00',\n",
       "   'REGULAR',\n",
       "   '0004894904',\n",
       "   '0000483008'),\n",
       "  ('25',\n",
       "   'IRT',\n",
       "   '06/24/2015',\n",
       "   '13:00:00',\n",
       "   'REGULAR',\n",
       "   '0004895052',\n",
       "   '0000483014'),\n",
       "  ('25',\n",
       "   'IRT',\n",
       "   '06/24/2015',\n",
       "   '17:00:00',\n",
       "   'REGULAR',\n",
       "   '0004895241',\n",
       "   '0000483039'),\n",
       "  ('25',\n",
       "   'IRT',\n",
       "   '06/24/2015',\n",
       "   '21:00:00',\n",
       "   'REGULAR',\n",
       "   '0004895462',\n",
       "   '0000483069'),\n",
       "  ('25',\n",
       "   'IRT',\n",
       "   '06/25/2015',\n",
       "   '01:00:00',\n",
       "   'REGULAR',\n",
       "   '0004895536',\n",
       "   '0000483078'),\n",
       "  ('25',\n",
       "   'IRT',\n",
       "   '06/25/2015',\n",
       "   '05:00:00',\n",
       "   'REGULAR',\n",
       "   '0004895576',\n",
       "   '0000483081'),\n",
       "  ('25',\n",
       "   'IRT',\n",
       "   '06/25/2015',\n",
       "   '09:00:00',\n",
       "   'REGULAR',\n",
       "   '0004896110',\n",
       "   '0000483094'),\n",
       "  ('25',\n",
       "   'IRT',\n",
       "   '06/25/2015',\n",
       "   '13:00:00',\n",
       "   'REGULAR',\n",
       "   '0004896262',\n",
       "   '0000483109'),\n",
       "  ('25',\n",
       "   'IRT',\n",
       "   '06/25/2015',\n",
       "   '17:00:00',\n",
       "   'REGULAR',\n",
       "   '0004896480',\n",
       "   '0000483135'),\n",
       "  ('25',\n",
       "   'IRT',\n",
       "   '06/25/2015',\n",
       "   '21:00:00',\n",
       "   'REGULAR',\n",
       "   '0004896688',\n",
       "   '0000483160'),\n",
       "  ('25',\n",
       "   'IRT',\n",
       "   '06/26/2015',\n",
       "   '01:00:00',\n",
       "   'REGULAR',\n",
       "   '0004896753',\n",
       "   '0000483172'),\n",
       "  ('25',\n",
       "   'IRT',\n",
       "   '06/26/2015',\n",
       "   '05:00:00',\n",
       "   'REGULAR',\n",
       "   '0004896788',\n",
       "   '0000483174'),\n",
       "  ('25',\n",
       "   'IRT',\n",
       "   '06/26/2015',\n",
       "   '09:00:00',\n",
       "   'REGULAR',\n",
       "   '0004897312',\n",
       "   '0000483197'),\n",
       "  ('25',\n",
       "   'IRT',\n",
       "   '06/26/2015',\n",
       "   '13:00:00',\n",
       "   'REGULAR',\n",
       "   '0004897473',\n",
       "   '0000483205'),\n",
       "  ('25',\n",
       "   'IRT',\n",
       "   '06/26/2015',\n",
       "   '17:00:00',\n",
       "   'REGULAR',\n",
       "   '0004897718',\n",
       "   '0000483232'),\n",
       "  ('25',\n",
       "   'IRT',\n",
       "   '06/26/2015',\n",
       "   '21:00:00',\n",
       "   'REGULAR',\n",
       "   '0004897946',\n",
       "   '0000483251')])"
      ]
     },
     "execution_count": 9,
     "metadata": {},
     "output_type": "execute_result"
    }
   ],
   "source": [
    "list(raw_readings.items())[0]"
   ]
  },
  {
   "cell_type": "markdown",
   "metadata": {},
   "source": [
    "`raw_readings` is a solution to Challenge 1."
   ]
  },
  {
   "cell_type": "markdown",
   "metadata": {},
   "source": [
    "### Challenge 2"
   ]
  },
  {
   "cell_type": "code",
   "execution_count": null,
   "metadata": {
    "collapsed": true
   },
   "outputs": [],
   "source": [
    "datetime_cumulative = {turnstile: [(datetime.strptime(date + time,\n",
    "                                                      '%m/%d/%Y%X'),\n",
    "                                    int(in_cumulative))\n",
    "                                   for _, _, date, time,\n",
    "                                       _, in_cumulative, _ in rows]\n",
    "                       for turnstile, rows in raw_readings.items()}"
   ]
  },
  {
   "cell_type": "code",
   "execution_count": null,
   "metadata": {
    "collapsed": true
   },
   "outputs": [],
   "source": [
    "for rows in datetime_cumulative.values():\n",
    "    assert rows == sorted(rows)"
   ]
  },
  {
   "cell_type": "code",
   "execution_count": null,
   "metadata": {
    "collapsed": true
   },
   "outputs": [],
   "source": [
    "datetime_count_times = {turnstile: [[rows[i][0],\n",
    "                                     rows[i+1][1] - rows[i][1],\n",
    "                                     rows[i+1][0] - rows[i][0]]\n",
    "                                    for i in range(len(rows) - 1)]\n",
    "                        for turnstile, rows in datetime_cumulative.items()}"
   ]
  },
  {
   "cell_type": "code",
   "execution_count": null,
   "metadata": {
    "collapsed": false
   },
   "outputs": [],
   "source": [
    "all_counts = [count for rows in datetime_count_times.values() for _, count, _ in rows]\n",
    "all_counts.sort()\n",
    "print(all_counts[-50:])"
   ]
  },
  {
   "cell_type": "code",
   "execution_count": null,
   "metadata": {
    "collapsed": false
   },
   "outputs": [],
   "source": [
    "print(all_counts[:1200])"
   ]
  },
  {
   "cell_type": "code",
   "execution_count": null,
   "metadata": {
    "collapsed": false
   },
   "outputs": [],
   "source": [
    "all_times = [duration.total_seconds() / 60 / 60\n",
    "             for rows in datetime_count_times.values()\n",
    "             for _, _, duration in rows]\n",
    "print(Counter(all_times).most_common(10))"
   ]
  },
  {
   "cell_type": "code",
   "execution_count": null,
   "metadata": {
    "collapsed": true
   },
   "outputs": [],
   "source": [
    "datetime_counts = {turnstile: [(time, count)\n",
    "                               for (time, count, _) in rows\n",
    "                               if 0 <= count <= 5000]\n",
    "                   for turnstile, rows in datetime_count_times.items()}"
   ]
  },
  {
   "cell_type": "markdown",
   "metadata": {},
   "source": [
    "`datetime_counts` is a solution to Challenge 2."
   ]
  },
  {
   "cell_type": "code",
   "execution_count": null,
   "metadata": {
    "collapsed": false
   },
   "outputs": [],
   "source": [
    "all_good_counts = [count for rows in datetime_counts.values() for _, count in rows]\n",
    "print(len(all_good_counts) / len(all_counts))"
   ]
  },
  {
   "cell_type": "code",
   "execution_count": null,
   "metadata": {
    "collapsed": false
   },
   "outputs": [],
   "source": [
    "all_good_counts.sort()\n",
    "print(all_good_counts[-5:])"
   ]
  },
  {
   "cell_type": "code",
   "execution_count": null,
   "metadata": {
    "collapsed": false
   },
   "outputs": [],
   "source": [
    "print(all_good_counts[:5])"
   ]
  },
  {
   "cell_type": "markdown",
   "metadata": {},
   "source": [
    "### Challenge 3"
   ]
  },
  {
   "cell_type": "code",
   "execution_count": null,
   "metadata": {
    "collapsed": true
   },
   "outputs": [],
   "source": [
    "day_counts = {}\n",
    "for turnstile, rows in datetime_counts.items():\n",
    "    by_day = {}\n",
    "    for time, count in rows:\n",
    "        day = time.date()\n",
    "        by_day[day] = by_day.get(day, 0) + count\n",
    "    day_counts[turnstile] = sorted(by_day.items())"
   ]
  },
  {
   "cell_type": "markdown",
   "metadata": {},
   "source": [
    "`day_counts` is a solution to Challenge 3."
   ]
  }
 ],
 "metadata": {
  "anaconda-cloud": {},
  "kernelspec": {
   "display_name": "Python [conda env:py35]",
   "language": "python",
   "name": "conda-env-py35-py"
  },
  "language_info": {
   "codemirror_mode": {
    "name": "ipython",
    "version": 3
   },
   "file_extension": ".py",
   "mimetype": "text/x-python",
   "name": "python",
   "nbconvert_exporter": "python",
   "pygments_lexer": "ipython3",
   "version": "3.5.2"
  }
 },
 "nbformat": 4,
 "nbformat_minor": 0
}
