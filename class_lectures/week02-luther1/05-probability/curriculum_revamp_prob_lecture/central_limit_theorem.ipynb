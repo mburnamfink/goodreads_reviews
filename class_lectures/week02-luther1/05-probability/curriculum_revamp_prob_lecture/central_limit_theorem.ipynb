{
 "cells": [
  {
   "cell_type": "markdown",
   "metadata": {},
   "source": [
    "## Central Limit Theorem\n",
    "\n",
    "- How it works: \n",
    "    - Sample from a distribution k times; this can be from any kind of distribution, but let's call the distribution **D**\n",
    "        - Take the mean (expectation) of those samples; now you have an estimate of the underlying distribution's mean\n",
    "        - Call the set of samples $k_{1}$\n",
    "        - $E(k_{1})$ = one sample mean of **D**\n",
    "    - Take a second random sample, again of size k, from the same distribution **D**; compute that sample's mean \n",
    "        - Let's call this second sample $k_{2}$\n",
    "        - $E(k_{2})$ = a second sample mean of **D**\n",
    "    - Now you have two samples of the underlying distribution's mean (each sample is size k, and both are coming from distribution **D**)\n",
    "        - We have $E(k_{1})$ and $E(k_{2})$ from **D**\n",
    "    - Keep taking samples (up to n) of size k from distribution **D**\n",
    "        - e.g. $E(k_{1})$, $E(k_{2})$, $E(k_{3})$, $E(k_{4})$\n",
    "        - Call the number of samples n, so we have n = 4 now\n",
    "    - Now you have n samples, where each sample is made up of k elements, that represent an estimate of distribution **D**'s mean\n",
    "    - CLT says that the distribution of n will now be approximately normal (and actually normal in the limit, when we take infinite samples)"
   ]
  },
  {
   "cell_type": "code",
   "execution_count": 1,
   "metadata": {},
   "outputs": [],
   "source": [
    "import numpy as np\n",
    "import matplotlib.pyplot as plt "
   ]
  },
  {
   "cell_type": "markdown",
   "metadata": {},
   "source": [
    "## Example drawing from a uniform distribution"
   ]
  },
  {
   "cell_type": "code",
   "execution_count": 2,
   "metadata": {},
   "outputs": [
    {
     "data": {
      "text/plain": [
       "array([[1.52111269, 5.3105436 , 4.82611355, 4.63872416],\n",
       "       [4.62510878, 6.75293194, 1.32347527, 7.86913322],\n",
       "       [7.43834148, 9.07158545, 2.34592552, 8.42780474],\n",
       "       [1.10821351, 2.50739818, 6.23882439, 5.64853879],\n",
       "       [6.2953439 , 4.65167542, 9.06243755, 8.185975  ],\n",
       "       [6.07069971, 2.06267472, 2.91888149, 1.24368513],\n",
       "       [5.51822497, 4.34021592, 5.49276717, 4.61020584],\n",
       "       [5.61209646, 7.02238557, 1.67787391, 3.04282397],\n",
       "       [2.19114421, 5.14097941, 5.78821618, 8.65787567],\n",
       "       [8.29998963, 6.73996777, 1.87474755, 4.92281326]])"
      ]
     },
     "execution_count": 2,
     "metadata": {},
     "output_type": "execute_result"
    }
   ],
   "source": [
    "uniform_draws = np.random.uniform(1,10,(10,4))\n",
    "# draw from a uniform distribution 10 times, and take 4 samples each time\n",
    "\n",
    "uniform_draws"
   ]
  },
  {
   "cell_type": "code",
   "execution_count": 3,
   "metadata": {},
   "outputs": [
    {
     "data": {
      "text/plain": [
       "array([4.0741235 , 5.1426623 , 6.8209143 , 3.87574372, 7.04885797,\n",
       "       3.07398526, 4.99035348, 4.33879498, 5.44455387, 5.45937955])"
      ]
     },
     "execution_count": 3,
     "metadata": {},
     "output_type": "execute_result"
    }
   ],
   "source": [
    "sample_means = np.apply_along_axis(lambda x: np.mean(x),1,uniform_draws)  \n",
    "# calculate the mean of each sample\n",
    "# (where a sample is a four-element array)\n",
    " \n",
    "sample_means"
   ]
  },
  {
   "cell_type": "code",
   "execution_count": 4,
   "metadata": {},
   "outputs": [
    {
     "data": {
      "text/plain": [
       "5.0269368930083775"
      ]
     },
     "execution_count": 4,
     "metadata": {},
     "output_type": "execute_result"
    }
   ],
   "source": [
    "sample_means.mean() # now take the expectation of the 10 means"
   ]
  },
  {
   "cell_type": "code",
   "execution_count": 5,
   "metadata": {},
   "outputs": [
    {
     "name": "stderr",
     "output_type": "stream",
     "text": [
      "/Users/larakattan/anaconda3/lib/python3.6/site-packages/matplotlib/axes/_axes.py:6462: UserWarning: The 'normed' kwarg is deprecated, and has been replaced by the 'density' kwarg.\n",
      "  warnings.warn(\"The 'normed' kwarg is deprecated, and has been \"\n"
     ]
    },
    {
     "data": {
      "image/png": "[encoded data removed]",
      "text/plain": [
       "<Figure size 432x288 with 1 Axes>"
      ]
     },
     "metadata": {},
     "output_type": "display_data"
    }
   ],
   "source": [
    "# Now let's run this for many more samples and plot the means\n",
    "import scipy.stats as stats\n",
    "\n",
    "uniform_draws = np.random.uniform(1,10,(10**6,500))\n",
    "sample_means = np.apply_along_axis(lambda x: np.mean(x),1,uniform_draws)  \n",
    "    \n",
    "plt.hist(np.sort(sample_means),bins=10,normed=True,label=\"sample means\");\n",
    "\n",
    "xmin, xmax = plt.xlim()\n",
    "x = np.linspace(xmin, xmax, 1000)\n",
    "y = stats.norm.pdf(x,np.mean(sample_means),np.std(sample_means))\n",
    "plt.plot(x,y,'k',label=\"normal\");\n",
    "plt.legend();\n",
    "\n",
    "\n"
   ]
  },
  {
   "cell_type": "markdown",
   "metadata": {},
   "source": [
    "## In conclusion\n",
    "\n",
    "- Note that we originally drew from a **uniform** distribution! \n",
    "- Then we took a bunch of samples of size 500 and took the mean of each sample\n",
    "- The distribution of our sample means looks **normal**! That's the CLT"
   ]
  },
  {
   "cell_type": "code",
   "execution_count": null,
   "metadata": {},
   "outputs": [],
   "source": []
  }
 ],
 "metadata": {
  "kernelspec": {
   "display_name": "Python 3",
   "language": "python",
   "name": "python3"
  },
  "language_info": {
   "codemirror_mode": {
    "name": "ipython",
    "version": 3
   },
   "file_extension": ".py",
   "mimetype": "text/x-python",
   "name": "python",
   "nbconvert_exporter": "python",
   "pygments_lexer": "ipython3",
   "version": "3.6.5"
  }
 },
 "nbformat": 4,
 "nbformat_minor": 2
}
