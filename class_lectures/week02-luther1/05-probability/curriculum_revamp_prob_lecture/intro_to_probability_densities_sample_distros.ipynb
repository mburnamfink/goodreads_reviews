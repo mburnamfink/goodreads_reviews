{
 "cells": [
  {
   "cell_type": "markdown",
   "metadata": {},
   "source": [
    "# Introduction to Probability: \n",
    "\n",
    "## 1) Probability densities, 2) some sample distributions\n"
   ]
  },
  {
   "cell_type": "markdown",
   "metadata": {},
   "source": [
    "### Probability densities:\n",
    "We can easily visualize our densities by a \"normalized histogram\" that gives the values with their appropriate probability weightings:\n",
    "\n",
    "    Examples:\n",
    "        Fair Coin: 1/2, 1/2\n",
    "        Unfair Coin: 1/3, 2/3\n",
    "        Fair Die: 1/6, 1/6, 1/6, 1/6, 1/6, 1/6\n",
    "        Unfair Die: 1/20, 2/20, 2/20, 2/20, 2/20, 11/20"
   ]
  },
  {
   "cell_type": "code",
   "execution_count": 4,
   "metadata": {},
   "outputs": [
    {
     "data": {
      "image/png": "[encoded data removed]",
      "text/plain": [
       "<Figure size 432x288 with 1 Axes>"
      ]
     },
     "metadata": {},
     "output_type": "display_data"
    }
   ],
   "source": [
    "import matplotlib.pyplot as plt\n",
    "%matplotlib inline\n",
    "\n",
    "## PROBABILITIES FOR A FAIR COIN\n",
    "Left = [0,1]\n",
    "Vals = ['H', 'T']\n",
    "Probs = [1.0/2, 1.0/2]\n",
    "\n",
    "## Plot the probabilities\n",
    "fig = plt.figure()\n",
    "H = plt.bar(Left, Probs, align='center')\n",
    "H = plt.xticks(Left, Vals)\n",
    "H = plt.ylim((0,1))\n",
    "H = plt.title(\"Probabilities for a fair coin\")"
   ]
  },
  {
   "cell_type": "code",
   "execution_count": 5,
   "metadata": {},
   "outputs": [
    {
     "data": {
      "image/png": "[encoded data removed]",
      "text/plain": [
       "<Figure size 432x288 with 1 Axes>"
      ]
     },
     "metadata": {},
     "output_type": "display_data"
    }
   ],
   "source": [
    "## PROBABILITIES FOR OF AN UNFAIR COIN\n",
    "Left = [0,1]\n",
    "Vals = ['H', 'T']\n",
    "Probs = [1.0/3, 2.0/3]\n",
    "\n",
    "## Plot the histogram\n",
    "fig = plt.figure()\n",
    "H = plt.bar(Left, Probs, align='center')\n",
    "H = plt.xticks(Left, Vals)\n",
    "H = plt.ylim((0,1))\n",
    "H = plt.title(\"Probabilities for an unfair coin -- (1/3, 2/3)\")"
   ]
  },
  {
   "cell_type": "code",
   "execution_count": 6,
   "metadata": {},
   "outputs": [
    {
     "data": {
      "image/png": "[encoded data removed]",
      "text/plain": [
       "<Figure size 432x288 with 1 Axes>"
      ]
     },
     "metadata": {},
     "output_type": "display_data"
    }
   ],
   "source": [
    "## PROBABILITIES FOR A FAIR DIE\n",
    "n = 6\n",
    "Left = range(n)\n",
    "Vals = range(1,n+1)\n",
    "Probs = n * [1.0/n]\n",
    "\n",
    "## Plot the histogram\n",
    "fig = plt.figure()\n",
    "H = plt.bar(Left, Probs, align='center')\n",
    "H = plt.xticks(Left, Vals)\n",
    "H = plt.ylim((0,1))\n",
    "H = plt.title(\"Probabilities for a fair die\")"
   ]
  },
  {
   "cell_type": "code",
   "execution_count": 8,
   "metadata": {},
   "outputs": [
    {
     "data": {
      "image/png": "[encoded data removed]",
      "text/plain": [
       "<Figure size 432x288 with 1 Axes>"
      ]
     },
     "metadata": {},
     "output_type": "display_data"
    }
   ],
   "source": [
    "## PROBABILITIES FOR AN UNFAIR FAIR DIE\n",
    "n = 6\n",
    "Left = range(n)\n",
    "Vals = range(1,n+1)\n",
    "Probs = [1.0/20] + 4*[2.0/20] + [11.0/20]\n",
    "\n",
    "## Plot the histogram\n",
    "fig = plt.figure()\n",
    "H = plt.bar(Left, Probs, align='center')\n",
    "H = plt.xticks(Left, Vals)\n",
    "H = plt.ylim((0,1))\n",
    "H = plt.title(\"Probabilities for an unfair/weighted die\\n(1/20, 2/20, 2/20, 2/20, 2/20, 11/20)\")"
   ]
  },
  {
   "cell_type": "markdown",
   "metadata": {},
   "source": [
    "**Note:** Usually we talk about possibilities as having **numeric** values so we can compute useful numerical quantities to describe random variables."
   ]
  },
  {
   "cell_type": "code",
   "execution_count": null,
   "metadata": {},
   "outputs": [],
   "source": []
  },
  {
   "cell_type": "markdown",
   "metadata": {},
   "source": [
    "### Compute the probabilities for a sum of n coins"
   ]
  },
  {
   "cell_type": "code",
   "execution_count": 9,
   "metadata": {},
   "outputs": [],
   "source": [
    "## Python Code to create and view probability distributions!\n",
    "\n",
    "%matplotlib inline\n",
    "import matplotlib.pyplot as plt\n",
    "\n",
    "\n",
    "def make_die(d=6):\n",
    "    # dict comprehensions: \n",
    "    # RV = {val: 1./6 for val in range(1, d+1)}\n",
    "    RV = {}\n",
    "    for val in range(1, d+1):\n",
    "        RV[val] = 1.0/6    \n",
    "    return RV\n",
    "\n",
    "def make_sum_of_two_variables(V1, V2):\n",
    "    \"\"\"\n",
    "    RV = ([val_list], [prob_list])    \n",
    "    \"\"\"\n",
    "    new_V = {}\n",
    "    for v1 in V1:\n",
    "        for v2 in V2:            \n",
    "            new_V[v1 + v2] = new_V.get(v1 + v2, 0) + V1[v1] * V2[v2]\n",
    "\n",
    "    ## Adjust for roundoff error -- Rescale the probabilities to sum to one\n",
    "    inv_prob_sum = 1.0 / sum(new_V.values())\n",
    "    for k in new_V:\n",
    "        new_V[k] *= inv_prob_sum \n",
    "        \n",
    "    return new_V\n",
    "            \n",
    "\n",
    "def RV_mean(V):\n",
    "    \"\"\"\n",
    "    Return the mean of the random variable.    \n",
    "    \"\"\"\n",
    "    # return sum(val*prob for val, prob in V.iteritems())\n",
    "    mean = 0.0\n",
    "    for val, prob in V.iteritems():\n",
    "        mean += prob * val\n",
    "    return mean\n",
    "\n",
    "    \n",
    "def RV_histogram(V, n):\n",
    "    \n",
    "    Vals = V.keys()\n",
    "    Probs = [V[val] for val in Vals]\n",
    "    d = len(Vals)\n",
    "    Left = Vals\n",
    "    \n",
    "    ## Plot the histogram\n",
    "    fig = plt.figure()\n",
    "    H = plt.bar(Left, Probs, align='center', width = 1.0)\n",
    "  #  H = plt.xticks(Left, Vals)\n",
    "    H = plt.ylim((0,1))\n",
    "    if n == 1:\n",
    "        H = plt.title(\"Probabilities for one fair die\")\n",
    "    else:\n",
    "        H = plt.title(\"Probabilities for the sum of \" + str(n) + \" fair dice\")\n",
    "        \n",
    "    \n",
    "def RV_histogram__dots(V, n):\n",
    "    \n",
    "    Vals = V.keys()\n",
    "    Probs = [V[val] for val in Vals]\n",
    "    d = len(Vals)\n",
    "    Left = Vals\n",
    "    \n",
    "    ## Plot the histogram\n",
    "    fig = plt.figure()\n",
    "    H = plt.plot(Left, Probs, 'bo')\n",
    " #   H = plt.xticks(Left, Vals)\n",
    "    H = plt.ylim((0,1))\n",
    "    x_min, x_max = plt.xlim()  \n",
    "    eps = 0.5\n",
    "    H = plt.xlim([x_min - eps, x_max + eps])\n",
    "    if n == 1:\n",
    "        H = plt.title(\"Probabilities for one fair die\")\n",
    "    else:\n",
    "        H = plt.title(\"Probabilities for the sum of \" + str(n) + \" fair dice\")\n",
    "        \n",
    "    \n",
    "def RV_mean_scaled_histogram(V, n, use_unscaled_xticks=True):\n",
    "    \n",
    " #   mean = RV_mean(V)\n",
    "\n",
    "    Vals = V.keys()\n",
    "    Scaled_Vals = [1.0 * v / n   for v in V.keys()]\n",
    "    Probs = [n*V[val] for val in Vals]\n",
    "    max_prob = max(Probs + [1])\n",
    "    d = len(Vals)\n",
    "    Left = Vals\n",
    "    Scaled_Left = Scaled_Vals\n",
    "    \n",
    "    ## Plot the histogram\n",
    "    fig = plt.figure()\n",
    "    H = plt.bar(Scaled_Left, Probs, align='center', width=1.0/n)\n",
    "    if not use_unscaled_xticks:\n",
    "        H = plt.xticks(Scaled_Left, Scaled_Vals)\n",
    "    H = plt.ylim((0,max_prob))\n",
    "    if n == 1:\n",
    "        H = plt.title(\"Scaled Probabilities for one fair die\")\n",
    "    else:\n",
    "        H = plt.title(\"Scaled Probabilities for the sum of \" + str(n) + \" fair dice\")"
   ]
  },
  {
   "cell_type": "code",
   "execution_count": 10,
   "metadata": {},
   "outputs": [],
   "source": [
    "D_list = [make_die()]\n",
    "for i in range(9):\n",
    "    D_list.append(make_sum_of_two_variables(D_list[-1], D_list[-1]))"
   ]
  },
  {
   "cell_type": "code",
   "execution_count": 11,
   "metadata": {},
   "outputs": [
    {
     "data": {
      "image/png": "[encoded data removed]",
      "text/plain": [
       "<Figure size 432x288 with 1 Axes>"
      ]
     },
     "metadata": {},
     "output_type": "display_data"
    }
   ],
   "source": [
    "k = 0\n",
    "RV_histogram__dots(D_list[k],n = 2**k)\n"
   ]
  },
  {
   "cell_type": "code",
   "execution_count": 12,
   "metadata": {},
   "outputs": [
    {
     "data": {
      "image/png": "[encoded data removed]",
      "text/plain": [
       "<Figure size 432x288 with 1 Axes>"
      ]
     },
     "metadata": {},
     "output_type": "display_data"
    }
   ],
   "source": [
    "k = 1\n",
    "RV_histogram__dots(D_list[k],n = 2**k)"
   ]
  },
  {
   "cell_type": "code",
   "execution_count": 13,
   "metadata": {},
   "outputs": [
    {
     "data": {
      "image/png": "[encoded data removed]",
      "text/plain": [
       "<Figure size 432x288 with 1 Axes>"
      ]
     },
     "metadata": {},
     "output_type": "display_data"
    }
   ],
   "source": [
    "k = 0\n",
    "RV_mean_scaled_histogram(D_list[k],n = 2**k)"
   ]
  },
  {
   "cell_type": "code",
   "execution_count": 14,
   "metadata": {},
   "outputs": [
    {
     "data": {
      "image/png": "[encoded data removed]",
      "text/plain": [
       "<Figure size 432x288 with 1 Axes>"
      ]
     },
     "metadata": {},
     "output_type": "display_data"
    }
   ],
   "source": [
    "k = 1\n",
    "RV_mean_scaled_histogram(D_list[k],n = 2**k)"
   ]
  },
  {
   "cell_type": "code",
   "execution_count": 15,
   "metadata": {},
   "outputs": [
    {
     "data": {
      "image/png": "[encoded data removed]",
      "text/plain": [
       "<Figure size 432x288 with 1 Axes>"
      ]
     },
     "metadata": {},
     "output_type": "display_data"
    }
   ],
   "source": [
    "k = 2\n",
    "RV_mean_scaled_histogram(D_list[k],n = 2**k)"
   ]
  },
  {
   "cell_type": "code",
   "execution_count": 16,
   "metadata": {},
   "outputs": [
    {
     "data": {
      "image/png": "[encoded data removed]",
      "text/plain": [
       "<Figure size 432x288 with 1 Axes>"
      ]
     },
     "metadata": {},
     "output_type": "display_data"
    }
   ],
   "source": [
    "k = 3\n",
    "RV_mean_scaled_histogram(D_list[k],n = 2**k)"
   ]
  },
  {
   "cell_type": "code",
   "execution_count": 17,
   "metadata": {},
   "outputs": [
    {
     "data": {
      "image/png": "[encoded data removed]",
      "text/plain": [
       "<Figure size 432x288 with 1 Axes>"
      ]
     },
     "metadata": {},
     "output_type": "display_data"
    }
   ],
   "source": [
    "k = 4\n",
    "RV_mean_scaled_histogram(D_list[k],n = 2**k)"
   ]
  },
  {
   "cell_type": "code",
   "execution_count": 18,
   "metadata": {},
   "outputs": [
    {
     "data": {
      "image/png": "[encoded data removed]",
      "text/plain": [
       "<Figure size 432x288 with 1 Axes>"
      ]
     },
     "metadata": {},
     "output_type": "display_data"
    }
   ],
   "source": [
    "k = 5\n",
    "RV_mean_scaled_histogram(D_list[k],n = 2**k)"
   ]
  },
  {
   "cell_type": "code",
   "execution_count": 19,
   "metadata": {},
   "outputs": [
    {
     "data": {
      "image/png": "[encoded data removed]",
      "text/plain": [
       "<Figure size 432x288 with 1 Axes>"
      ]
     },
     "metadata": {},
     "output_type": "display_data"
    }
   ],
   "source": [
    "k = 6\n",
    "RV_mean_scaled_histogram(D_list[k],n = 2**k)"
   ]
  },
  {
   "cell_type": "code",
   "execution_count": 20,
   "metadata": {
    "scrolled": true
   },
   "outputs": [
    {
     "data": {
      "image/png": "[encoded data removed]",
      "text/plain": [
       "<Figure size 432x288 with 1 Axes>"
      ]
     },
     "metadata": {},
     "output_type": "display_data"
    }
   ],
   "source": [
    "k = 7\n",
    "RV_mean_scaled_histogram(D_list[k],n = 2**k)"
   ]
  },
  {
   "cell_type": "code",
   "execution_count": null,
   "metadata": {},
   "outputs": [],
   "source": []
  },
  {
   "cell_type": "markdown",
   "metadata": {
    "run_control": {
     "frozen": false,
     "read_only": false
    }
   },
   "source": [
    "## Examples of distributions"
   ]
  },
  {
   "cell_type": "markdown",
   "metadata": {
    "run_control": {
     "frozen": false,
     "read_only": false
    }
   },
   "source": [
    "### Uniform random variables\n",
    "\n",
    "A **uniform random variable** on the interval $[a,b]$ is any random variable $X$ with a probability density function satisfying\n",
    "$$ $$\n",
    "$$\n",
    "\\rho_X(x) = \\begin{cases}\n",
    "\\frac{1}{b-a} &\\qquad \\text{if $a \\leq x \\leq b$,} \\\\\n",
    "0 & \\qquad \\text{otherwise.}\n",
    "\\end{cases}\n",
    "$$\n",
    "\n",
    "<img width=400 \n",
    "src=\"https://upload.wikimedia.org/wikipedia/commons/9/96/Uniform_Distribution_PDF_SVG.svg\">\n",
    "\n",
    "This is the most common distribution that vanishes outside of a closed interval."
   ]
  },
  {
   "cell_type": "markdown",
   "metadata": {
    "run_control": {
     "frozen": false,
     "read_only": false
    }
   },
   "source": [
    "### Gaussian / Normal Distribution\n",
    "\n",
    "A **normal random variable** $\\mathcal{N}(\\mu, \\sigma^2)$ with mean $\\mu$ and variance $\\sigma^2>0$ is any random variable $X$ with a probability density function satisfying\n",
    "$$ $$\n",
    "$$\n",
    "\\rho_X(x) = \\frac{1}{\\sqrt{2\\pi}\\sigma} e^\\frac{-(x-\\mu)^2}{2\\sigma^2} = \\frac{1}{\\sqrt{2\\pi}\\sigma}\\exp\\left({\\frac{-(x-\\mu)^2}{2\\sigma^2}}\\right).\n",
    "$$\n",
    "\n",
    "<img width=400  src=\"https://upload.wikimedia.org/wikipedia/commons/7/74/Normal_Distribution_PDF.svg\">\n",
    "\n",
    "This is important for the Central Limit Theorem."
   ]
  },
  {
   "cell_type": "markdown",
   "metadata": {
    "run_control": {
     "frozen": false,
     "read_only": false
    }
   },
   "source": [
    "### Log-Gaussian\n",
    "A **log-normal random variable** with \"mean\" $\\mu$ and \"variance\" $\\sigma^2 > 0$ is any random variable $X$ with a probability density function satisfying\n",
    "$$ $$\n",
    "$$\n",
    "\\rho_X(x) \n",
    "= \\begin{cases}\n",
    "\\frac{1}{\\sqrt{2\\pi}x \\sigma} \n",
    "e^\\frac{-(\\ln(x)-\\mu)^2}{2\\sigma^2} & \\qquad \\text{if $x > 0$,}\n",
    "\\\\\n",
    "0 & \\qquad \\text{otherwise.}\n",
    "\\end{cases}\n",
    "$$\n",
    "\n",
    "<img width=\"400\" height=\"400\"\n",
    "src=\"https://upload.wikimedia.org/wikipedia/commons/a/ae/PDF-log_normal_distributions.svg\">\n",
    "\n"
   ]
  },
  {
   "cell_type": "markdown",
   "metadata": {
    "run_control": {
     "frozen": false,
     "read_only": false
    }
   },
   "source": [
    "### Exponential distribution\n",
    "An **exponential random variable** with parameter $\\lambda > 0$ is any random variable $X$ with a probability density function satisfying\n",
    "$$ $$\n",
    "$$\n",
    "\\rho_X(x) = \n",
    "\\begin{cases}\n",
    "λ e^{−λx} = \\lambda \\exp(-\\lambda x) &\\qquad \\text{if $x \\geq 0$,} \\\\\n",
    "0 & \\qquad \\text{otherwise.}\n",
    "\\end{cases}\n",
    "$$\n",
    "\n",
    "<img width=\"400\" height=\"400\"\n",
    "src=\"https://upload.wikimedia.org/wikipedia/commons/e/ec/Exponential_pdf.svg\">\n",
    "\n",
    "Here $\\lambda$ is called the **rate parameter**, and this is often used to describe the time between occurences of events."
   ]
  },
  {
   "cell_type": "markdown",
   "metadata": {
    "run_control": {
     "frozen": false,
     "read_only": false
    }
   },
   "source": [
    "### Poisson distribution -- a useful discrete random variable\n",
    "A **Poisson random variable** with parameter $\\lambda > 0$ is any random variable $X$ with a probability density function satisfying\n",
    "$$ $$\n",
    "$$\n",
    "\\rho_X(k) = \\begin{cases}\n",
    "\\frac{\\lambda^k}{e^\\lambda \\cdot k!} &\\qquad \\text{if $k$ is a non-negative integer,} \\\\\n",
    "0 & \\qquad \\text{otherwise.}\n",
    "\\end{cases}\n",
    "$$\n",
    "\n",
    "<img width=\"400\" height=\"400\"\n",
    "src=\"https://upload.wikimedia.org/wikipedia/commons/1/16/Poisson_pmf.svg\">\n",
    "\n",
    "\n",
    "This is often used to describe the number of events that occur in a given amount of time."
   ]
  },
  {
   "cell_type": "code",
   "execution_count": null,
   "metadata": {
    "run_control": {
     "frozen": false,
     "read_only": false
    }
   },
   "outputs": [],
   "source": []
  },
  {
   "cell_type": "markdown",
   "metadata": {
    "run_control": {
     "frozen": false,
     "read_only": false
    }
   },
   "source": [
    "## Independent random variables\n",
    "\n",
    "Two random varaiables $X$ and $Y$ are called **independent** if for any two intervals $I_1$ and $I_2$ we have that \n",
    "$$ $$\n",
    "$$\n",
    "P(X \\in I_1 \\text{ and } Y \\in I_2) \n",
    "= \\int_{x \\in I_1} \\int_{y \\in I_2} \\rho_X(x) \\rho_Y(y)\\, dx\\, dy.\n",
    "$$\n",
    "\n",
    "In other words the random variables $X$ and $Y$ are independent if their **joint probability density** $\\rho_{X,Y}(x,y)$ has the form\n",
    "$$ $$\n",
    "$$\\rho_{X,Y}(x,y) =\\rho_X(x) \\rho_Y(y).$$\n",
    "\n",
    "Otherwise we say that $X$ and $Y$ are **dependent**"
   ]
  },
  {
   "cell_type": "code",
   "execution_count": null,
   "metadata": {
    "run_control": {
     "frozen": false,
     "read_only": false
    }
   },
   "outputs": [],
   "source": []
  },
  {
   "cell_type": "markdown",
   "metadata": {
    "run_control": {
     "frozen": false,
     "read_only": false
    }
   },
   "source": [
    "## Useful quantities\n",
    "\n",
    "- **Expected Value / Mean**\n",
    "$$ $$\n",
    "$$ E(X) := \\int_{x \\in \\mathbb{R}} x \\cdot \\rho_X(x) \\, dx $$\n",
    "    \n",
    "- **Variance**\n",
    "$$ $$\n",
    "\\begin{align} \n",
    "Var(X) := (\\sigma_x)^2 &:= E\\left((X - E(X))^2\\right) \n",
    "\\\\\n",
    "&= \\int_{x \\in \\mathbb{R}} (x - E(X))^2 \\cdot \\rho_X(x) \\, dx \\geq 0\n",
    "\\end{align}\n",
    "\n",
    "- **Standard Deviation**\n",
    "$$ $$\n",
    "$$\\sigma_x := \\sqrt{Var(X)} \\geq 0$$\n"
   ]
  },
  {
   "cell_type": "markdown",
   "metadata": {
    "run_control": {
     "frozen": false,
     "read_only": false
    }
   },
   "source": [
    "The transition from discrete to continuous random variables is essentially to replace\n",
    "$$ $$\n",
    "$$\\sum_\\text{values $x$ of $X$} P(X=x) \\times (\\text{Blah})$$ \n",
    "with \n",
    "$$ $$\n",
    "$$\\int_{x\\in \\mathbb{R}} (\\text{Blah}) \\cdot \\rho_X(x)\\, dx$$\n",
    "in all of the formulas!"
   ]
  },
  {
   "cell_type": "markdown",
   "metadata": {
    "run_control": {
     "frozen": false,
     "read_only": false
    }
   },
   "source": [
    "For two random variables $X$ and $Y$, their **covariance** is given by the formula\n",
    "$$ $$\n",
    "$$\n",
    "\\int_{x \\in \\mathbb{R}} \\int_{y \\in \\mathbb{R}}\n",
    "(x - E(X))(y - E(Y)) \\cdot \\rho_{X\\times Y}(x,y) \\, dy \\, dx\n",
    "$$\n",
    "$$ $$\n",
    "which can also be written more simply as \n",
    "$$ $$\n",
    "$$\n",
    "E\\left((X - E(X))(Y - E(Y))\\right).\n",
    "$$\n"
   ]
  },
  {
   "cell_type": "code",
   "execution_count": null,
   "metadata": {},
   "outputs": [],
   "source": []
  },
  {
   "cell_type": "markdown",
   "metadata": {
    "run_control": {
     "frozen": false,
     "read_only": false
    }
   },
   "source": [
    "# Play with some functions"
   ]
  },
  {
   "cell_type": "code",
   "execution_count": 21,
   "metadata": {
    "run_control": {
     "frozen": false,
     "read_only": false
    }
   },
   "outputs": [
    {
     "name": "stderr",
     "output_type": "stream",
     "text": [
      "/Users/larakattan/anaconda3/lib/python3.6/importlib/_bootstrap.py:219: RuntimeWarning: numpy.dtype size changed, may indicate binary incompatibility. Expected 96, got 88\n",
      "  return f(*args, **kwds)\n",
      "/Users/larakattan/anaconda3/lib/python3.6/importlib/_bootstrap.py:219: RuntimeWarning: numpy.dtype size changed, may indicate binary incompatibility. Expected 96, got 88\n",
      "  return f(*args, **kwds)\n"
     ]
    }
   ],
   "source": [
    "import matplotlib.pyplot as plt\n",
    "import seaborn as sns\n",
    "import numpy as np\n",
    "import math\n",
    "%matplotlib inline"
   ]
  },
  {
   "cell_type": "markdown",
   "metadata": {
    "run_control": {
     "frozen": false,
     "read_only": false
    }
   },
   "source": [
    "** Function Definitions **"
   ]
  },
  {
   "cell_type": "code",
   "execution_count": 22,
   "metadata": {
    "run_control": {
     "frozen": false,
     "read_only": false
    }
   },
   "outputs": [
    {
     "data": {
      "image/png": "[encoded data removed]",
      "text/plain": [
       "<Figure size 432x288 with 1 Axes>"
      ]
     },
     "metadata": {},
     "output_type": "display_data"
    }
   ],
   "source": [
    "def normal(x,mu,sig):\n",
    "    return 1/(np.sqrt(2*3.14159)*sig)*np.exp(-(x-mu)**2/(2*sig**2))\n",
    "x = np.linspace(-10,10,num=1000)\n",
    "y = normal(x,2,1.0)\n",
    "y2 = normal(x,3,1.5)\n",
    "y3 = normal(x,-3,3)\n",
    "plt.plot(x,y,'b',x,y2,'r',x,y3,'k');"
   ]
  },
  {
   "cell_type": "code",
   "execution_count": 23,
   "metadata": {
    "run_control": {
     "frozen": false,
     "read_only": false
    }
   },
   "outputs": [
    {
     "name": "stderr",
     "output_type": "stream",
     "text": [
      "/Users/larakattan/anaconda3/lib/python3.6/site-packages/ipykernel_launcher.py:2: RuntimeWarning: divide by zero encountered in true_divide\n",
      "  \n",
      "/Users/larakattan/anaconda3/lib/python3.6/site-packages/ipykernel_launcher.py:2: RuntimeWarning: divide by zero encountered in log\n",
      "  \n",
      "/Users/larakattan/anaconda3/lib/python3.6/site-packages/ipykernel_launcher.py:2: RuntimeWarning: invalid value encountered in multiply\n",
      "  \n"
     ]
    },
    {
     "data": {
      "image/png": "[encoded data removed]",
      "text/plain": [
       "<Figure size 432x288 with 1 Axes>"
      ]
     },
     "metadata": {},
     "output_type": "display_data"
    }
   ],
   "source": [
    "def log_normal(x,mu,sig):\n",
    "    return 1/(np.sqrt(2*3.14159)*sig*x)*np.exp(-(np.log(x)-mu)**2/(2*sig**2))\n",
    "x = np.linspace(0,2.5,num=1000)\n",
    "y = log_normal(x,0,0.25)\n",
    "plt.plot(x,y,'b');"
   ]
  },
  {
   "cell_type": "code",
   "execution_count": 24,
   "metadata": {
    "run_control": {
     "frozen": false,
     "read_only": false
    }
   },
   "outputs": [
    {
     "data": {
      "image/png": "[encoded data removed]",
      "text/plain": [
       "<Figure size 432x288 with 1 Axes>"
      ]
     },
     "metadata": {},
     "output_type": "display_data"
    }
   ],
   "source": [
    "def poisson(klist,lam):\n",
    "    result=[]\n",
    "    for k in klist:\n",
    "        result.append(lam**k/math.factorial(k)*np.exp(-lam))\n",
    "    return result\n",
    "k = range(0,20)\n",
    "y = poisson(k,4)\n",
    "plt.plot(k,y,'b');"
   ]
  },
  {
   "cell_type": "code",
   "execution_count": 25,
   "metadata": {
    "run_control": {
     "frozen": false,
     "read_only": false
    }
   },
   "outputs": [
    {
     "data": {
      "image/png": "[encoded data removed]",
      "text/plain": [
       "<Figure size 432x288 with 1 Axes>"
      ]
     },
     "metadata": {},
     "output_type": "display_data"
    }
   ],
   "source": [
    "def exp_dist(x, lam):\n",
    "    return lam*np.exp(-lam*x)\n",
    "\n",
    "x = np.linspace(0,10,num=1000)\n",
    "y = exp_dist(x,0.5)\n",
    "plt.plot(x,y,'b');"
   ]
  },
  {
   "cell_type": "code",
   "execution_count": null,
   "metadata": {},
   "outputs": [],
   "source": []
  }
 ],
 "metadata": {
  "kernelspec": {
   "display_name": "Python 3",
   "language": "python",
   "name": "python3"
  },
  "language_info": {
   "codemirror_mode": {
    "name": "ipython",
    "version": 3
   },
   "file_extension": ".py",
   "mimetype": "text/x-python",
   "name": "python",
   "nbconvert_exporter": "python",
   "pygments_lexer": "ipython3",
   "version": "3.6.5"
  }
 },
 "nbformat": 4,
 "nbformat_minor": 2
}
