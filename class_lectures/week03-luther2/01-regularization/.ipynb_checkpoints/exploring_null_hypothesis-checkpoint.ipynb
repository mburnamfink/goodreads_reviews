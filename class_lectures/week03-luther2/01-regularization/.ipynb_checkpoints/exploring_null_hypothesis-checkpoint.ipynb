{
 "cells": [
  {
   "cell_type": "markdown",
   "metadata": {},
   "source": [
    "# Null Hypothesis Testing\n",
    "\n",
    "\n",
    "I claim that I can use mystical abilities to predict the outcome of coin flips.\n",
    "\n",
    "You don't think I can.\n",
    "\n",
    "How can we test it?\n",
    "\n",
    "We do an experiment in which I call 100 coin flips. I get 60 right.\n",
    "\n",
    "Am I special or not?\n",
    "\n",
    "---\n",
    "\n",
    "The hypothesis that I'm not special, the \"null hypothesis\", is that my true rate of flip prediction is 0.5. But even under this hypothesis, I could get 60 out of 100 right. So did I get lucky (by random chance) or am I mystical?\n",
    "\n",
    "The interesting claim, or \"alternative hypothesis\", is that my true rate of flip prediction is greater than 0.5.\n",
    "\n",
    "The thing we're measuring from the experiment, or \"test statistic\", is the number of correct flip predictions out of 100.\n",
    "\n",
    "If the null hypothesis is correct, the test statistic is binomial distributed with parameters `n = 100` and `p = 0.5`. That is, if we repeated the whole experiment many times, we would see such a distribution for all the results.\n",
    "\n",
    "So if the null hypothesis is correct, how likely is it that I got 60 or more coin flips correct?\n",
    "\n",
    "Before we check (really, before we do the experiment) we decide what would convince us that I have ESP. The choice of a cutoff at 5% probability is common. That is, if we would only see data as extreme as we've seen less than 5% of the time, we'll say that seems too unlikely and we will conclude that we don't think the null hypothesis is true.\n",
    "\n",
    "---\n",
    "\n",
    "In the case of the binomial distribution, which is discrete and not too complicated mathematically, we could just work out the probability. But in general we'll rely on some existing functionality. (In a traditional statistics class, this is the part where we'd turn to a table in the back of the book.)\n",
    "\n",
    "```python\n",
    "from scipy.stats import binom\n",
    "print(1 - binom.cdf(60, 100, 0.5))\n",
    "# 0.017600100108852379\n",
    "```\n",
    "\n",
    "The probability of getting 60 or more correct is about 1.8%. This is less than 5%, so we reject the null hypothesis and (maybe) conclude that I have mystical coin powers.\n",
    "\n",
    "---\n",
    "\n",
    "Conversely, we can figure out what the 95% cutoff is beforehand.\n",
    "\n",
    "```python\n",
    "from scipy.stats import binom\n",
    "print(binom.ppf(0.95,100,0.5))\n",
    "# 58\n",
    "```\n",
    "\n",
    "Which means, one should get 58 tosses or more to be considered clairvoyant. And we will say the person has predictive power with a confidence level of 95%.\n",
    "\n",
    "\n",
    "\n"
   ]
  },
  {
   "cell_type": "markdown",
   "metadata": {},
   "source": [
    "#### What about confidence intervals?\n",
    "\n",
    "When using a coin, a hundred tosses sounds good. But let's change the problem. Let's say, someone says, \"I can look at a person's address and predict if they are republican or democrat.\" Say you pull 100 random people from your town and test the claim against a confidence level of 95%. Next you do the same with 100 random people from the entire country. Are these two the same?\n",
    "\n",
    "In the second case you should see more variation in your population, so it is harder to predicted.\n",
    "\n",
    "This link provides a nifty calculator: http://www.surveysystem.com/sscalc.htm#one"
   ]
  },
  {
   "cell_type": "markdown",
   "metadata": {},
   "source": [
    "The example(s) above are given for illustrative purposes; it's much more common to test using statistics that have different distributions: chi-squared, t, f, and z (normal) are all common."
   ]
  },
  {
   "cell_type": "markdown",
   "metadata": {},
   "source": [
    "The machinery of null hypothesis testing comes up in linear regression diagnostics, and we may or may not care. An even more practical application is in A/B testing (more generally \"split testing\") in which we want to find out if a different rate of clicks (etc.) under two (or more) conditions is due to random chance or due to a real difference in performance between the conditions."
   ]
  },
  {
   "cell_type": "code",
   "execution_count": 1,
   "metadata": {},
   "outputs": [
    {
     "name": "stderr",
     "output_type": "stream",
     "text": [
      "/Users/damien/miniconda2/lib/python2.7/site-packages/matplotlib/font_manager.py:273: UserWarning: Matplotlib is building the font cache using fc-list. This may take a moment.\n",
      "  warnings.warn('Matplotlib is building the font cache using fc-list. This may take a moment.')\n"
     ]
    }
   ],
   "source": [
    "# Different approach\n",
    "from scipy.stats import binom, beta\n",
    "import random\n",
    "import matplotlib.pyplot as plt\n",
    "\n",
    "%matplotlib inline"
   ]
  },
  {
   "cell_type": "code",
   "execution_count": 2,
   "metadata": {
    "collapsed": true
   },
   "outputs": [],
   "source": [
    "def get_correct_guess(p_correct = 0.5):\n",
    "    # this will return true \"p_correct\" proportion of the time\n",
    "    return (random.random() < p_correct)"
   ]
  },
  {
   "cell_type": "code",
   "execution_count": 10,
   "metadata": {},
   "outputs": [
    {
     "data": {
      "text/plain": [
       "0.56"
      ]
     },
     "execution_count": 10,
     "metadata": {},
     "output_type": "execute_result"
    }
   ],
   "source": [
    "# Let's flip a fair coin 100 times, with no special predictive powers\n",
    "#random.seed(19)\n",
    "def get_sample(p_correct, n_sample = 100):\n",
    "    'Returns the proportion of times the coin was correctly falled'\n",
    "    return sum([get_correct_guess(p_correct) for _ in range(n_sample)]) / float(n_sample)\n",
    "\n",
    "get_sample(0.5)"
   ]
  },
  {
   "cell_type": "markdown",
   "metadata": {},
   "source": [
    "Ok, 55% of the time the call was correct and we know there are no predictive powers involved (we made a simualtion for this case -- the 'null' case).\n",
    "\n",
    "How likely is it to get more than 55 heads?"
   ]
  },
  {
   "cell_type": "code",
   "execution_count": 14,
   "metadata": {},
   "outputs": [
    {
     "data": {
      "image/png": "[encoded data removed]",
      "text/plain": [
       "<matplotlib.figure.Figure at 0x109d60150>"
      ]
     },
     "metadata": {},
     "output_type": "display_data"
    }
   ],
   "source": [
    "collection_of_samples = [get_sample(0.5,100) for _ in range(1000)]\n",
    "plt.hist(collection_of_samples, bins = 30);"
   ]
  },
  {
   "cell_type": "markdown",
   "metadata": {},
   "source": [
    "We can make this a slightly nicer plot"
   ]
  },
  {
   "cell_type": "code",
   "execution_count": 15,
   "metadata": {},
   "outputs": [
    {
     "data": {
      "image/png": "[encoded data removed]",
      "text/plain": [
       "<matplotlib.figure.Figure at 0x109f2eb90>"
      ]
     },
     "metadata": {},
     "output_type": "display_data"
    }
   ],
   "source": [
    "import seaborn as sns\n",
    "\n",
    "sns.distplot(collection_of_samples);"
   ]
  },
  {
   "cell_type": "code",
   "execution_count": 16,
   "metadata": {},
   "outputs": [
    {
     "data": {
      "text/plain": [
       "'There are 137 groups out of 1000 with a score above 0.55 (13.7%)'"
      ]
     },
     "execution_count": 16,
     "metadata": {},
     "output_type": "execute_result"
    }
   ],
   "source": [
    "# Fraction of people with more coin flips than 55\n",
    "def number_above_threshold(collection_of_samples, threshold):\n",
    "    num_above_threshold = len([num_correct for num_correct in collection_of_samples if num_correct > threshold])\n",
    "    return 'There are {} groups out of {} with a score above {} ({:2.1f}%)'.format(num_above_threshold, len(collection_of_samples),\n",
    "                                                                       threshold, 100*float(num_above_threshold)/len(collection_of_samples))\n",
    "\n",
    "number_above_threshold(collection_of_samples, 0.55)"
   ]
  },
  {
   "cell_type": "code",
   "execution_count": 17,
   "metadata": {},
   "outputs": [
    {
     "data": {
      "text/plain": [
       "'There are 49 groups out of 1000 with a score above 0.58 (4.9%)'"
      ]
     },
     "execution_count": 17,
     "metadata": {},
     "output_type": "execute_result"
    }
   ],
   "source": [
    "number_above_threshold(collection_of_samples, 0.58)"
   ]
  },
  {
   "cell_type": "markdown",
   "metadata": {},
   "source": [
    "i.e. approximately (based on sampling) 5% of the time we would expect to more than 58 right if we had no predictive power.\n",
    "\n",
    "![Jelly bean significance](https://imgs.xkcd.com/comics/significant.png)\n",
    "\n",
    "Of course, then we have to worry about whether the simulation **above** is large enough to be confident that we can trust our simulation. The binomial distribution is simple enough that we can use `scipy` directly to calculate it using the  \n"
   ]
  },
  {
   "cell_type": "code",
   "execution_count": 18,
   "metadata": {},
   "outputs": [
    {
     "data": {
      "text/plain": [
       "58.0"
      ]
     },
     "execution_count": 18,
     "metadata": {},
     "output_type": "execute_result"
    }
   ],
   "source": [
    "# ppf = 'percent point function', arguments are \n",
    "#       alpha, N = number of samples, p = probability of success\n",
    "#       Finds the number T such that \n",
    "#       P(# successes <= T) = alpha\n",
    "# (i.e. is the inverse of CDF)\n",
    "binom.ppf(0.95,100,0.5)"
   ]
  },
  {
   "cell_type": "markdown",
   "metadata": {},
   "source": [
    "i.e. _assuming the null hypothesis is true_, we would expect a result this large to occur about 5% of the time. \n",
    "\n",
    "\n",
    "\n",
    "This is **NOT** the same as saying that there is a 5% chance the null hypothesis is wrong ..... much more on this tomorrow! We will also be convering the central limit theorem, and how to design experiments.\n",
    "\n",
    "\n",
    "![Is the sun still there?](https://imgs.xkcd.com/comics/frequentists_vs_bayesians.png)"
   ]
  },
  {
   "cell_type": "code",
   "execution_count": null,
   "metadata": {
    "collapsed": true
   },
   "outputs": [],
   "source": []
  }
 ],
 "metadata": {
  "kernelspec": {
   "display_name": "Python 3",
   "language": "python",
   "name": "python3"
  },
  "language_info": {
   "codemirror_mode": {
    "name": "ipython",
    "version": 3
   },
   "file_extension": ".py",
   "mimetype": "text/x-python",
   "name": "python",
   "nbconvert_exporter": "python",
   "pygments_lexer": "ipython3",
   "version": "3.6.5"
  }
 },
 "nbformat": 4,
 "nbformat_minor": 2
}
