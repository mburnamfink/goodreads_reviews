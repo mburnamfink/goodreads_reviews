{
 "cells": [
  {
   "cell_type": "code",
   "execution_count": 1,
   "metadata": {},
   "outputs": [
    {
     "name": "stderr",
     "output_type": "stream",
     "text": [
      "/home/michael/anaconda3/lib/python3.6/site-packages/sklearn/cross_validation.py:41: DeprecationWarning: This module was deprecated in version 0.18 in favor of the model_selection module into which all the refactored classes and functions are moved. Also note that the interface of the new CV iterators are different from that of this module. This module will be removed in 0.20.\n",
      "  \"This module will be removed in 0.20.\", DeprecationWarning)\n"
     ]
    }
   ],
   "source": [
    "#@@@@@@@@@@@@@@@@@@@@@@@@@@@@@@@@@@@@@@@\n",
    "#Using the lasso for model specification\n",
    "#Jeremy Kedziora\n",
    "#4/18/2016\n",
    "#@@@@@@@@@@@@@@@@@@@@@@@@@@@@@@@@@@@@@@@\n",
    "import matplotlib.pyplot as plt\n",
    "from sklearn.linear_model import Lasso\n",
    "from sklearn.cross_validation import KFold\n",
    "import pandas as pd\n",
    "import numpy as np\n",
    "    \n",
    "\n",
    "X = pd.read_csv('Lasso_practice_data.csv')\n",
    "y = X['y']\n",
    "X = X.drop('y',1)\n",
    "X = np.array(X)\n",
    "y = np.array(y)\n",
    "\n",
    "#tune the lambda parameter by applying k-fold cross validation\n",
    "kf = KFold(X.shape[0], n_folds=5, shuffle=True)    #produce the k folds\n",
    "\n",
    "Lambda = np.arange(0.001,1.0,0.001)    #a list of lambdas\n",
    "Prediction_error = []    #an empty list to hold the prediction error\n",
    "\n",
    "for l in Lambda:    #loop over lambdas\n",
    "    pe = 0.0    #initialize prediction error\n",
    "    for train_index, test_index in kf:    #loop over the folds\n",
    "        X_train, X_test = X[train_index], X[test_index]    #create training and test independent variable data\n",
    "        y_train, y_test = y[train_index], y[test_index]    #create training and test dependent variable data\n",
    "\n",
    "        model = Lasso(l)    #create the model object\n",
    "        results = model.fit(X_train,y_train)    #fit the model\n",
    "        pe += sum((model.predict(X_test) - y_test)**2)    #predict the test data, compute the error, and add to total\n",
    "    Prediction_error.append(pe)    #append the prediction error\n",
    "\n",
    "    \n",
    "#run the lasso:\n",
    "optimal_lambda_indx = np.argmin(Prediction_error)\n",
    "optimal_lambda = Lambda[optimal_lambda_indx]\n",
    "\n",
    "\n",
    "model = Lasso(optimal_lambda)    #generate a model object\n",
    "results = model.fit(X,y)    #fit the model"
   ]
  },
  {
   "cell_type": "code",
   "execution_count": 16,
   "metadata": {},
   "outputs": [
    {
     "name": "stdout",
     "output_type": "stream",
     "text": [
      "0.015\n",
      "[-0.00000000e+00 -1.79680027e+00 -1.24195990e-01  0.00000000e+00\n",
      " -4.51916523e-03  1.84323630e+00  0.00000000e+00  0.00000000e+00\n",
      " -1.93300730e-01  1.63689980e-01 -0.00000000e+00 -1.89527173e-03\n",
      " -0.00000000e+00 -2.20348245e+00  8.11811065e-03  1.00556157e+00\n",
      "  3.95360229e-02 -1.24380573e-02  0.00000000e+00 -3.40238662e-01]\n"
     ]
    }
   ],
   "source": [
    "print(optimal_lambda)\n",
    "\n",
    "print(model.coef_)"
   ]
  },
  {
   "cell_type": "code",
   "execution_count": 24,
   "metadata": {},
   "outputs": [
    {
     "data": {
      "text/plain": [
       "array([ 1,  2,  5,  8,  9, 13, 15, 16, 17, 19])"
      ]
     },
     "execution_count": 24,
     "metadata": {},
     "output_type": "execute_result"
    }
   ],
   "source": [
    "np.where(abs(model.coef_) > 1.0e-12)[0]"
   ]
  },
  {
   "cell_type": "code",
   "execution_count": 22,
   "metadata": {},
   "outputs": [
    {
     "data": {
      "text/plain": [
       "[<matplotlib.lines.Line2D at 0x11143aac8>]"
      ]
     },
     "execution_count": 22,
     "metadata": {},
     "output_type": "execute_result"
    },
    {
     "data": {
      "image/png": "[encoded data removed]",
      "text/plain": [
       "<Figure size 432x288 with 1 Axes>"
      ]
     },
     "metadata": {
      "needs_background": "light"
     },
     "output_type": "display_data"
    }
   ],
   "source": [
    "plt.plot(Lambda, Prediction_error)\n"
   ]
  },
  {
   "cell_type": "code",
   "execution_count": null,
   "metadata": {},
   "outputs": [],
   "source": []
  }
 ],
 "metadata": {
  "kernelspec": {
   "display_name": "Python 3",
   "language": "python",
   "name": "python3"
  },
  "language_info": {
   "codemirror_mode": {
    "name": "ipython",
    "version": 3
   },
   "file_extension": ".py",
   "mimetype": "text/x-python",
   "name": "python",
   "nbconvert_exporter": "python",
   "pygments_lexer": "ipython3",
   "version": "3.6.5"
  }
 },
 "nbformat": 4,
 "nbformat_minor": 2
}
