{
 "cells": [
  {
   "cell_type": "code",
   "execution_count": null,
   "metadata": {},
   "outputs": [],
   "source": [
    "import numpy as np\n",
    "import pandas as pd\n",
    "import matplotlib.pyplot as plt\n",
    "import seaborn as sns\n",
    "from sklearn.cross_validation import KFold\n",
    "\n",
    "df = pd.read_csv('Lasso_practice_data.csv')\n",
    "\n",
    "X = df[['x2','x6','x14','x16']]\n",
    "y = df.y\n",
    "\n",
    "from sklearn.model_selection import train_test_split\n",
    "X_train, X_test, y_train, y_test = train_test_split(X, y, test_size = 0.2)\n",
    "\n",
    "from sklearn.linear_model import Lasso\n",
    "kf = KFold(n=len(X_train), n_folds=5, shuffle=True)\n",
    "all_scores=[]\n",
    "alphas=[1e-3]\n",
    "for train, test in kf:\n",
    "    X_4=X_train.iloc[train]\n",
    "    y_4=y_train.iloc[train]\n",
    "    X_1=X_train.iloc[test]\n",
    "    y_1=y_train.iloc[test]\n",
    "    mse_score=[]\n",
    "    for a in alphas:\n",
    "        est=Lasso(alpha=a)\n",
    "        est.fit(X_4,y_4)\n",
    "        mse=np.mean((y_1-est.predict(X_1))**2)\n",
    "        mse_score.append(mse)\n",
    "    all_scores.append(mse_score)\n",
    "print(np.sum(all_scores))"
   ]
  }
 ],
 "metadata": {
  "kernelspec": {
   "display_name": "Python 3",
   "language": "python",
   "name": "python3"
  },
  "language_info": {
   "codemirror_mode": {
    "name": "ipython",
    "version": 3
   },
   "file_extension": ".py",
   "mimetype": "text/x-python",
   "name": "python",
   "nbconvert_exporter": "python",
   "pygments_lexer": "ipython3",
   "version": "3.6.5"
  }
 },
 "nbformat": 4,
 "nbformat_minor": 2
}
