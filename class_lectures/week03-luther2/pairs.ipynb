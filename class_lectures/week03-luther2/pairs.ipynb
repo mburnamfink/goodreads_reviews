{
 "cells": [
  {
   "cell_type": "code",
   "execution_count": 49,
   "metadata": {},
   "outputs": [],
   "source": [
    "import re\n",
    "import random"
   ]
  },
  {
   "cell_type": "code",
   "execution_count": 50,
   "metadata": {},
   "outputs": [],
   "source": [
    "mmg = \"\"\"I am the very model of a modern Major-General,\n",
    "I've information vegetable, animal, and mineral,\n",
    "I know the kings of England, and I quote the fights historical\n",
    "From Marathon to Waterloo, in order categorical;\n",
    "I'm very well acquainted, too, with matters mathematical,\n",
    "I understand equations, both the simple and quadratical,\n",
    "About binomial theorem I'm teeming with a lot o' news, (bothered for a rhyme)\n",
    "With many cheerful facts about the square of the hypotenuse.\n",
    "I'm very good at integral and differential calculus;\n",
    "I know the scientific names of beings animalculous:\n",
    "In short, in matters vegetable, animal, and mineral,\n",
    "I am the very model of a modern Major-General.\n",
    "\n",
    "I know our mythic history, King Arthur's and Sir Caradoc's;\n",
    "I answer hard acrostics, I've a pretty taste for paradox,\n",
    "I quote in elegiacs all the crimes of Heliogabalus,\n",
    "In conics I can floor peculiarities parabolous;\n",
    "I can tell undoubted Raphaels from Gerard Dows and Zoffanies,\n",
    "I know the croaking chorus from The Frogs of Aristophanes!\n",
    "Then I can hum a fugue of which I've heard the music's din afore, (bothered for a rhyme)\n",
    "And whistle all the airs from that infernal nonsense Pinafore.\n",
    "Then I can write a washing bill in Babylonic cuneiform,\n",
    "And tell you ev'ry detail of Caractacus's uniform:\n",
    "In short, in matters vegetable, animal, and mineral,\n",
    "I am the very model of a modern Major-General.\n",
    "In fact, when I know what is meant by \"mamelon\" and \"ravelin\",\n",
    "When I can tell at sight a Mauser rifle from a javelin,\n",
    "When such affairs as sorties and surprises I'm more wary at,\n",
    "And when I know precisely what is meant by \"commissariat\",\n",
    "When I have learnt what progress has been made in modern gunnery,\n",
    "When I know more of tactics than a novice in a nunnery -\n",
    "In short, when I've a smattering of elemental strategy - (bothered for a rhyme)\n",
    "You'll say a better Major-General has never sat a gee.\n",
    "For my military knowledge, though I'm plucky and adventury,\n",
    "Has only been brought down to the beginning of the century;\n",
    "But still, in matters vegetable, animal, and mineral,\n",
    "I am the very model of a modern Major-General.\"\"\"\n",
    "\n",
    "geb = \"\"\"Gödel, Escher, Bach: An Eternal Golden Braid, also known as\n",
    "GEB, is a 1979 book by Douglas Hofstadter. The tagline \"a metaphorical\n",
    "fugue on minds and machines in the spirit of Lewis Carroll\" was used\n",
    "by the publisher to describe the book.\n",
    "\n",
    "By exploring common themes in the lives and works of logician Kurt\n",
    "Gödel, artist M. C. Escher and composer Johann Sebastian Bach, GEB\n",
    "expounds concepts fundamental to mathematics, symmetry, and\n",
    "intelligence. Through illustration and analysis, the book discusses\n",
    "how self-reference and formal rules allow systems to acquire meaning\n",
    "despite being made of \"meaningless\" elements. It also discusses what\n",
    "it means to communicate, how knowledge can be represented and stored,\n",
    "the methods and limitations of symbolic representation, and even the\n",
    "fundamental notion of \"meaning\" itself.\n",
    "\n",
    "In response to confusion over the book's theme, Hofstadter has\n",
    "emphasized that GEB is not about mathematics, art, and music but\n",
    "rather about how cognition and thinking emerge from well-hidden\n",
    "neurological mechanisms. In the book, he presents an analogy about how\n",
    "the individual neurons of the brain coordinate to create a unified\n",
    "sense of a coherent mind by comparing it to the social organization\n",
    "displayed in a colony of ants.\"\"\""
   ]
  },
  {
   "cell_type": "code",
   "execution_count": 66,
   "metadata": {},
   "outputs": [],
   "source": [
    "\n",
    "\n",
    "def common_words(paras):\n",
    "    \"\"\"\n",
    "    paras is a list of strings to find common words in\n",
    "    eg. [para1, para2... paraN]\n",
    "    \"\"\"\n",
    "        \n",
    "    common_words=set()\n",
    "    \n",
    "    for para in paras:\n",
    "        para = geb= re.sub(',|\\t|\\n|\\(|\\)|\\.|\\|\\:|\\;|\"', \" \", para)\n",
    "        para = re.sub(\"\\'\", '', para)\n",
    "        para = para.lower()\n",
    "        if len(common_words)==0:\n",
    "            common_words = set(para.split(' '))\n",
    "        else:\n",
    "            common_words = common_words.intersection(set(para.split(' ')))\n",
    "    output = []\n",
    "    \n",
    "    for word in common_words:\n",
    "        if len(word) >= 5:\n",
    "            output.append(word)\n",
    "            \n",
    "    random.shuffle(output)        \n",
    "    a = output.pop()\n",
    "    b = output.pop()\n",
    "    c = output.pop()\n",
    "    return [a,b,c]"
   ]
  },
  {
   "cell_type": "code",
   "execution_count": 67,
   "metadata": {},
   "outputs": [
    {
     "data": {
      "text/plain": [
       "['about', 'fugue', 'knowledge']"
      ]
     },
     "execution_count": 67,
     "metadata": {},
     "output_type": "execute_result"
    }
   ],
   "source": [
    "common_words([geb, mmg])"
   ]
  },
  {
   "cell_type": "code",
   "execution_count": 53,
   "metadata": {},
   "outputs": [
    {
     "data": {
      "text/plain": [
       "'gödel, escher, bach: an eternal golden braid, also known as\\ngeb, is a 1979 book by douglas hofstadter. the tagline \"a metaphorical\\nfugue on minds and machines in the spirit of lewis carroll\" was used\\nby the publisher to describe the book.\\n\\nby exploring common themes in the lives and works of logician kurt\\ngödel, artist m. c. escher and composer johann sebastian bach, geb\\nexpounds concepts fundamental to mathematics, symmetry, and\\nintelligence. through illustration and analysis, the book discusses\\nhow self-reference and formal rules allow systems to acquire meaning\\ndespite being made of \"meaningless\" elements. it also discusses what\\nit means to communicate, how knowledge can be represented and stored,\\nthe methods and limitations of symbolic representation, and even the\\nfundamental notion of \"meaning\" itself.\\n\\nin response to confusion over the book\\'s theme, hofstadter has\\nemphasized that geb is not about mathematics, art, and music but\\nrather about how cognition and thinking emerge from well-hidden\\nneurological mechanisms. in the book, he presents an analogy about how\\nthe individual neurons of the brain coordinate to create a unified\\nsense of a coherent mind by comparing it to the social organization\\ndisplayed in a colony of ants.'"
      ]
     },
     "execution_count": 53,
     "metadata": {},
     "output_type": "execute_result"
    }
   ],
   "source": [
    "geb.lower()"
   ]
  },
  {
   "cell_type": "code",
   "execution_count": 57,
   "metadata": {},
   "outputs": [
    {
     "data": {
      "text/plain": [
       "[1, 2, 3, 4, 5]"
      ]
     },
     "execution_count": 57,
     "metadata": {},
     "output_type": "execute_result"
    }
   ],
   "source": [
    "a = [1,2,3,4,5]\n",
    "a"
   ]
  },
  {
   "cell_type": "code",
   "execution_count": 58,
   "metadata": {},
   "outputs": [],
   "source": [
    "random.shuffle(a)"
   ]
  },
  {
   "cell_type": "code",
   "execution_count": 59,
   "metadata": {},
   "outputs": [
    {
     "data": {
      "text/plain": [
       "[2, 5, 4, 1, 3]"
      ]
     },
     "execution_count": 59,
     "metadata": {},
     "output_type": "execute_result"
    }
   ],
   "source": [
    "a"
   ]
  },
  {
   "cell_type": "code",
   "execution_count": null,
   "metadata": {},
   "outputs": [],
   "source": []
  }
 ],
 "metadata": {
  "kernelspec": {
   "display_name": "Python 3",
   "language": "python",
   "name": "python3"
  },
  "language_info": {
   "codemirror_mode": {
    "name": "ipython",
    "version": 3
   },
   "file_extension": ".py",
   "mimetype": "text/x-python",
   "name": "python",
   "nbconvert_exporter": "python",
   "pygments_lexer": "ipython3",
   "version": "3.6.5"
  }
 },
 "nbformat": 4,
 "nbformat_minor": 2
}
